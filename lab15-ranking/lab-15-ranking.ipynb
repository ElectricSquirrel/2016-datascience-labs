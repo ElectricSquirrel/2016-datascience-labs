{
 "cells": [
  {
   "cell_type": "markdown",
   "metadata": {},
   "source": [
    "# Introduction to Data Science, CS 5963 / Math 3900\n",
    "## Lab 15: Ranking in Practice \n",
    "\n",
    "We look at rating/ranking college football teams. "
   ]
  },
  {
   "cell_type": "markdown",
   "metadata": {},
   "source": [
    "There are a lot of different methods for rating/ranking. Here is a webpage with a comparison:\n",
    "[masseyratings.com](http://www.masseyratings.com/cf/compare.htm)\n",
    "\n",
    "## College Football Primer\n",
    "\n",
    "National Collegiate Athletic Association (NCAA) College Football is divided into two subdivisions: \n",
    "- Football Bowl Subdivision (FBS), formerly  Division I-A\n",
    "- Football Championship Subdivision (FCS), formerly Division I-AA\n",
    "\n",
    "Our goal will be to rank the 128 teams in the FBS. \n",
    "\n",
    "The FBS is further divided into 11 conferences, some of which have sub-divisions. The University of Utah is in the South Division of the Pacific 12 (Pac-12) Conference. \n",
    "\n",
    "      A.  American Athletic Conference\n",
    "           i) East Division\n",
    "                Central Florida\n",
    "                Cincinnati\n",
    "                Connecticut\n",
    "                East Carolina\n",
    "                South Florida\n",
    "                Temple\n",
    "          ii) West Division\n",
    "                Houston\n",
    "                Memphis\n",
    "                Navy\n",
    "                SMU\n",
    "                Tulane\n",
    "                Tulsa\n",
    "      B.  Atlantic Coast Conference       \n",
    "           i) Atlantic Division\n",
    "                Boston College\n",
    "                Clemson\n",
    "                Florida St\n",
    "                Louisville\n",
    "                North Carolina St\n",
    "                Syracuse\n",
    "                Wake Forest\n",
    "         ii) Coastal Division\n",
    "                Duke\n",
    "                Georgia Tech\n",
    "                Miami FL\n",
    "                North Carolina\n",
    "                Pittsburgh\n",
    "                Virginia\n",
    "                Virginia Tech       \n",
    "      C.  Big 10 Conference\n",
    "           i) East Division\n",
    "                Indiana\n",
    "                Maryland\n",
    "                Michigan\n",
    "                Michigan St\n",
    "                Ohio State\n",
    "                Penn State\n",
    "                Rutgers\n",
    "         ii) West Division\n",
    "                Illinois\n",
    "                Iowa\n",
    "                Minnesota\n",
    "                Nebraska\n",
    "                Northwestern\n",
    "                Purdue\n",
    "                Wisconsin      \n",
    "      D.  Big 12 Conference\n",
    "            Baylor\n",
    "            Iowa St\n",
    "            Kansas\n",
    "            Kansas St\n",
    "            Oklahoma\n",
    "            Oklahoma St\n",
    "            Texas\n",
    "            TCU \n",
    "            Texas Tech\n",
    "            West Virginia\n",
    "      E.  Conference USA\n",
    "           i) East Division\n",
    "                Florida Atlantic\n",
    "                Florida Int'l\n",
    "                Marshall\n",
    "                Middle Tennessee St\n",
    "                UNC-Charlotte\n",
    "                Old Dominion\n",
    "                Western Kentucky\n",
    "          ii) West Division\n",
    "                Louisiana Tech\n",
    "                North Texas\n",
    "                Rice\n",
    "                Southern Miss\n",
    "                Texas-San Antonio\n",
    "                UTEP                   \n",
    "      F.  Mid-American Conference\n",
    "           i) East Division\n",
    "                Akron\n",
    "                Bowling Green\n",
    "                Buffalo\n",
    "                Kent St\n",
    "                Miami OH\n",
    "                Ohio U.\n",
    "          ii) West Division\n",
    "                Ball St\n",
    "                Central Michigan\n",
    "                Eastern Michigan\n",
    "                Northern Illinois\n",
    "                Toledo\n",
    "                Western Michigan\n",
    "      G.  Mountain West Conference\n",
    "           i) Mountain Division\n",
    "                Air Force\n",
    "                Boise St\n",
    "                Colorado St\n",
    "                New Mexico\n",
    "                Utah St\n",
    "                Wyoming\n",
    "          ii) West Division\n",
    "                Fresno St\n",
    "                Hawai`i\n",
    "                Nevada\n",
    "                San Diego St\n",
    "                San José St\n",
    "                UNLV      \n",
    "      H.  Pacific 12 Conference\n",
    "           i) North Division\n",
    "                California\n",
    "                Oregon\n",
    "                Oregon St\n",
    "                Stanford\n",
    "                Washington\n",
    "                Washington St\n",
    "          ii) South Division\n",
    "                Arizona\n",
    "                Arizona St\n",
    "                Colorado\n",
    "                Southern Cal\n",
    "                UCLA  \n",
    "                Utah        \n",
    "      I.  Southeastern Conference\n",
    "           i) Eastern Division\n",
    "                Florida\n",
    "                Georgia\n",
    "                Kentucky\n",
    "                Missouri\n",
    "                South Carolina\n",
    "                Tennessee\n",
    "                Vanderbilt\n",
    "          ii) Western Division\n",
    "                Alabama\n",
    "                Arkansas\n",
    "                Auburn\n",
    "                LSU\n",
    "                Mississippi\n",
    "                Mississippi St\n",
    "                Texas A&M\n",
    "      J.  Sun Belt Conference\n",
    "            Appalachian St\n",
    "            Arkansas St\n",
    "            Georgia Southern\n",
    "            Georgia St\n",
    "            Idaho\n",
    "            Louisiana-Lafayette\n",
    "            Louisiana-Monroe\n",
    "            New Mexico St\n",
    "            South Alabama\n",
    "            Texas St-San Marcos\n",
    "            Troy\n",
    "      K.  Division I FBS Independents\n",
    "            Army\n",
    "            Brigham Young\n",
    "            Massachusetts\n",
    "            Notre Dame  \n",
    "\n",
    "More conference information available [here](http://prwolfe.bol.ucla.edu/cfootball/conferences.htm). \n",
    "\n",
    "## Download data\n",
    "\n",
    "We download the 2016 College Football game results from \n",
    "[this website](http://masseyratings.com/scores.php?s=286577&sub=286577&all=1). So far, there have been 4206 games. \n",
    "\n"
   ]
  },
  {
   "cell_type": "code",
   "execution_count": null,
   "metadata": {
    "collapsed": true
   },
   "outputs": [],
   "source": [
    "# imports and setup\n",
    "import numpy as np\n",
    "import pandas as pd\n",
    "import networkx as nx\n",
    "\n",
    "from bs4 import BeautifulSoup\n",
    "import urllib.request\n",
    "from io import StringIO\n",
    "\n",
    "import matplotlib.pyplot as plt\n",
    "%matplotlib inline\n",
    "plt.rcParams['figure.figsize'] = (15, 9)\n",
    "plt.style.use('ggplot')\n"
   ]
  },
  {
   "cell_type": "markdown",
   "metadata": {},
   "source": [
    "### First get a list of team names"
   ]
  },
  {
   "cell_type": "code",
   "execution_count": null,
   "metadata": {
    "collapsed": false
   },
   "outputs": [],
   "source": [
    "url = \"http://masseyratings.com/scores.php?s=286577&sub=286577&all=1&mode=3&format=2\"\n",
    "with urllib.request.urlopen(url) as response:\n",
    "   html = response.read()\n",
    "soup = BeautifulSoup(html, 'html.parser')\n",
    "\n",
    "print(soup)"
   ]
  },
  {
   "cell_type": "markdown",
   "metadata": {},
   "source": [
    "### Exercise: load the team names into a Pandas dataframe\n",
    "Call the Pandas dataframe 'teams' and name the column with the team names 'team'\n",
    "\n",
    "**Hint**: you might use the BeautifulSoup command *get_text()* and the string command split()"
   ]
  },
  {
   "cell_type": "code",
   "execution_count": null,
   "metadata": {
    "collapsed": false
   },
   "outputs": [],
   "source": [
    "# your code here\n",
    "\n",
    "num_teams = teams.shape[0]\n",
    "print(num_teams)\n",
    "\n",
    "print(teams)"
   ]
  },
  {
   "cell_type": "code",
   "execution_count": null,
   "metadata": {
    "collapsed": false
   },
   "outputs": [],
   "source": [
    "# where is Utah in the Pandas series teams? \n",
    "teams[teams['team']=='Utah'].index.tolist()"
   ]
  },
  {
   "cell_type": "code",
   "execution_count": null,
   "metadata": {
    "collapsed": false
   },
   "outputs": [],
   "source": [
    "teams.loc[823]"
   ]
  },
  {
   "cell_type": "markdown",
   "metadata": {},
   "source": [
    "### Get the game results"
   ]
  },
  {
   "cell_type": "code",
   "execution_count": null,
   "metadata": {
    "collapsed": false
   },
   "outputs": [],
   "source": [
    "url = \"http://masseyratings.com/scores.php?s=286577&sub=286577&all=1&mode=3&format=1\"\n",
    "with urllib.request.urlopen(url) as response:\n",
    "   html = response.read()\n",
    "soup = BeautifulSoup(html, 'html.parser')\n",
    "\n",
    "soup"
   ]
  },
  {
   "cell_type": "code",
   "execution_count": null,
   "metadata": {
    "collapsed": false
   },
   "outputs": [],
   "source": [
    "soup_text = soup.get_text()\n",
    "df = pd.read_csv(StringIO(soup_text),names=['id','date','team1','homefield1','score1','team2','homefield2','score2'])\n",
    "\n",
    "num_games = df.shape[0]\n",
    "print(num_games)\n",
    "\n",
    "df.head()"
   ]
  },
  {
   "cell_type": "markdown",
   "metadata": {},
   "source": [
    "### Clean the data"
   ]
  },
  {
   "cell_type": "code",
   "execution_count": null,
   "metadata": {
    "collapsed": false
   },
   "outputs": [],
   "source": [
    "# add a new column with team names\n",
    "df.drop(['homefield1','homefield2'],inplace=True,axis=1)\n",
    "df.insert(3, 'team_name1', df['team1'].map(lambda x: teams['team'][x-1]))\n",
    "df.insert(6, 'team_name2', df['team2'].map(lambda x: teams['team'][x-1]))\n",
    "df.head()\n"
   ]
  },
  {
   "cell_type": "markdown",
   "metadata": {},
   "source": [
    "## Consider only Pac 12 teams"
   ]
  },
  {
   "cell_type": "code",
   "execution_count": null,
   "metadata": {
    "collapsed": false
   },
   "outputs": [],
   "source": [
    "P12 = ['California', 'Oregon', 'Oregon_St', 'Stanford', 'Washington', 'Washington_St', \n",
    "    'Arizona', 'Arizona_St', 'Colorado', 'USC', 'UCLA', 'Utah'] \n",
    "num_P12_teams = len(P12)\n",
    "\n",
    "# get PAC12 teams from teams\n",
    "P12_ind = teams[teams['team'].isin(P12)].index.tolist()  \n",
    "P12_teams = teams.loc[P12_ind]\n",
    "\n",
    "# assign a new ordering for teams\n",
    "P12_teams['P12_ind'] = np.arange(num_P12_teams)\n",
    "P12_teams['global_ind'] = P12_teams.index\n",
    "P12_teams.set_index('P12_ind',inplace=True)\n",
    "\n",
    "P12_teams"
   ]
  },
  {
   "cell_type": "markdown",
   "metadata": {},
   "source": [
    "### Exercise: Get the PAC12 games\n",
    "Make a new dataframe called *P12_df*, with game results from the dataframe *df* in which the teams were both in the PAC12."
   ]
  },
  {
   "cell_type": "code",
   "execution_count": null,
   "metadata": {
    "collapsed": false
   },
   "outputs": [],
   "source": [
    "# your code here\n",
    "\n",
    "\n",
    "num_P12_games = P12_df.shape[0]\n",
    "print(num_P12_games)\n",
    "print(P12_df)\n"
   ]
  },
  {
   "cell_type": "markdown",
   "metadata": {},
   "source": [
    "## Use the Least Squares method to construct a rating\n",
    "See Lecture 16. \n",
    "\n",
    "We first construct the pairwise comparisons, $y_{i,j}$ defined by\n",
    "$$\n",
    "y_{i,j} = \\frac{\\text{points team $j$ scored - points team $i$ scored}}{\\text{total points in game}}. \n",
    "$$\n"
   ]
  },
  {
   "cell_type": "code",
   "execution_count": null,
   "metadata": {
    "collapsed": false
   },
   "outputs": [],
   "source": [
    "P12_df['y'] = (P12_df['score1'] - P12_df['score2']) / (P12_df['score1'] + P12_df['score2'])\n",
    "y = P12_df['y'].tolist()\n",
    "P12_df"
   ]
  },
  {
   "cell_type": "markdown",
   "metadata": {},
   "source": [
    "Construct the arc-vertex incidence matrix\n",
    "$$\n",
    "B_{k,j} = \\begin{cases}\n",
    "1 & j = \\textrm{head}(k) \\\\\n",
    "-1 & j = \\textrm{tail}(k) \\\\\n",
    "0 & \\textrm{otherwise}. \n",
    "\\end{cases}\n",
    "$$\n",
    "This just keeps track of which teams played in each game. "
   ]
  },
  {
   "cell_type": "code",
   "execution_count": null,
   "metadata": {
    "collapsed": false
   },
   "outputs": [],
   "source": [
    "# first we need to reorder the teams in the PAC12 ordering\n",
    "\n",
    "print(P12_teams['global_ind'].tolist())\n",
    "\n",
    "glob_P12_dict = {j:i for i,j in enumerate(P12_teams['global_ind'].tolist())}\n",
    "print(glob_P12_dict)"
   ]
  },
  {
   "cell_type": "code",
   "execution_count": null,
   "metadata": {
    "collapsed": false
   },
   "outputs": [],
   "source": [
    "# construct B\n",
    "\n",
    "B = np.zeros((num_P12_games, num_P12_teams))\n",
    "\n",
    "for ii,g in enumerate(P12_df.index):\n",
    "    team1_global_ind = P12_df['team1'][g]\n",
    "    team1_P12_ind = glob_P12_dict[team1_global_ind-1]    \n",
    "    B[ii,team1_P12_ind] = 1\n",
    "\n",
    "    team2_global_ind = P12_df['team2'][g]\n",
    "    team2_P12_ind = glob_P12_dict[team2_global_ind-1]    \n",
    "    B[ii,team2_P12_ind] = -1\n"
   ]
  },
  {
   "cell_type": "code",
   "execution_count": null,
   "metadata": {
    "collapsed": false
   },
   "outputs": [],
   "source": [
    "# now we have enough information just to print the  game results \n",
    "for i,sc in enumerate(y):\n",
    "    head = np.where(B[i,:]==1)[0][0]\n",
    "    tail = np.where(B[i,:]==-1)[0][0]\n",
    "    print(P12_teams['team'][head] + ' vs. ' + P12_teams['team'][tail] + ': ' +str(sc))"
   ]
  },
  {
   "cell_type": "markdown",
   "metadata": {},
   "source": [
    "We now use the *lstsq* function in the np.linalg library to find the least squares rating, solving the least squares problem, \n",
    "$$\n",
    "\\min_{\\phi} \\ \\| B \\phi - y \\|^2. \n",
    "$$"
   ]
  },
  {
   "cell_type": "code",
   "execution_count": null,
   "metadata": {
    "collapsed": false
   },
   "outputs": [],
   "source": [
    "phi = np.linalg.lstsq(B,y,rcond=.1)[0]\n",
    "print(phi)"
   ]
  },
  {
   "cell_type": "code",
   "execution_count": null,
   "metadata": {
    "collapsed": false
   },
   "outputs": [],
   "source": [
    "P12_teams['rating'] = phi\n",
    "print(P12_teams)"
   ]
  },
  {
   "cell_type": "markdown",
   "metadata": {},
   "source": [
    "## Sort the ratings to generate a ranking\n"
   ]
  },
  {
   "cell_type": "code",
   "execution_count": null,
   "metadata": {
    "collapsed": false
   },
   "outputs": [],
   "source": [
    "P12_rankings = P12_teams.sort_values('rating', axis=0, ascending=False)\n",
    "P12_rankings['ranking'] = np.arange(1,num_P12_teams+1)\n",
    "P12_rankings.set_index('ranking',inplace=True)\n",
    "P12_rankings.drop('global_ind',axis=1,inplace=True)\n",
    "print(P12_rankings)"
   ]
  },
  {
   "cell_type": "markdown",
   "metadata": {},
   "source": [
    "### Exercise: discuss the results\n",
    "Compare against the PAC 12 rankings [here](https://pac-12.com/football/standings)."
   ]
  },
  {
   "cell_type": "markdown",
   "metadata": {},
   "source": [
    "## Visualize the schedule"
   ]
  },
  {
   "cell_type": "code",
   "execution_count": null,
   "metadata": {
    "collapsed": false
   },
   "outputs": [],
   "source": [
    "# make graph\n",
    "Lap = np.dot(np.transpose(B),B)\n",
    "adj = -Lap + np.diag(np.diag(Lap))\n",
    "game_graph = nx.from_numpy_matrix(adj)\n",
    "\n",
    "# Calculate the layout positions first\n",
    "pos = nx.spring_layout(game_graph)\n",
    "\n",
    "# labeling needs a dictionary\n",
    "label_dict = {i:j for i,j in enumerate(P12_teams['team'].tolist())}\n",
    "\n",
    "# draw graph\n",
    "nx.draw_networkx(game_graph, pos=pos, node_size=3000, labels = label_dict, node_shape='s')\n",
    "plt.show()\n"
   ]
  }
 ],
 "metadata": {
  "anaconda-cloud": {},
  "kernelspec": {
   "display_name": "Python [Root]",
   "language": "python",
   "name": "Python [Root]"
  },
  "language_info": {
   "codemirror_mode": {
    "name": "ipython",
    "version": 3
   },
   "file_extension": ".py",
   "mimetype": "text/x-python",
   "name": "python",
   "nbconvert_exporter": "python",
   "pygments_lexer": "ipython3",
   "version": "3.5.1"
  }
 },
 "nbformat": 4,
 "nbformat_minor": 0
}
