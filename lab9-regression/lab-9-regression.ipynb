{
 "cells": [
  {
   "cell_type": "markdown",
   "metadata": {},
   "source": [
    "# Introduction to Data Science, CS 5963 / Math 3900\n",
    "## Lab 9: Regression\n",
    "\n",
    "In this lab, we'll use the python packages [Statsmodels](http://statsmodels.sourceforge.net/) to study a dataset related to credit cards.\n",
    "We'll use the 'Credit' dataset, available \n",
    "[here](http://www-bcf.usc.edu/~gareth/ISL/data.html). \n",
    "This dataset consists of some credit card information for 400 people. \n",
    "\n",
    "Of course, a *credit card* is a card issued to a person (\"cardholder\"), typically from a bank, that can be used as a method of payment. The card allows the cardholder to borrow money from the bank to pay for goods and services. Credit cards have a *limit*, the maximum amount you can borrow, which is determined by the bank. The limit is determined from information collected from the cardholder (income, age, ...) and especially (as we will see) the cardholders \"credit rating\".  The *credit rating* is an evaluation of the (1) ability of the cardholder to pay back the borrowed money and (2) the likelihood of the cardholder to defaulting on the borrowed money. \n",
    "\n",
    "Our focus will be on the use of regression tools to study this dataset. Ideally, we'd like to understand what factors determine *credit ratings* and *credit limits*. We can think about this either from the point of view of (1) a bank who wants to protect their investments by minimizing credit defaults or (2) a person who is trying to increase their credit rating and/or credit limit. A difficulty we will encounter is including categorical data into regression models.  "
   ]
  },
  {
   "cell_type": "code",
   "execution_count": null,
   "metadata": {
    "collapsed": false
   },
   "outputs": [],
   "source": [
    "import pandas as pd\n",
    "import statsmodels.formula.api as sm\n",
    "import scipy as sc\n",
    "\n",
    "import matplotlib.pyplot as plt\n",
    "%matplotlib inline\n",
    "plt.rcParams['figure.figsize'] = (10, 6)"
   ]
  },
  {
   "cell_type": "markdown",
   "metadata": {},
   "source": [
    "##  Import data from Credit.csv file"
   ]
  },
  {
   "cell_type": "code",
   "execution_count": null,
   "metadata": {
    "collapsed": false
   },
   "outputs": [],
   "source": [
    "credit = pd.read_csv('Credit.csv',index_col=0) #load data\n",
    "print(credit[:10])"
   ]
  },
  {
   "cell_type": "markdown",
   "metadata": {},
   "source": [
    "## Summarize and describe the data"
   ]
  },
  {
   "cell_type": "code",
   "execution_count": null,
   "metadata": {
    "collapsed": false
   },
   "outputs": [],
   "source": [
    "print(credit.dtypes, '\\n') \n",
    "print(credit.describe(), '\\n')\n",
    "print(credit['Gender'].value_counts(), '\\n')\n",
    "print(credit['Student'].value_counts(), '\\n')\n",
    "print(credit['Married'].value_counts(), '\\n')\n",
    "print(credit['Ethnicity'].value_counts())"
   ]
  },
  {
   "cell_type": "markdown",
   "metadata": {},
   "source": [
    "The column names of this data are:  \n",
    "1. Income \n",
    "+ Limit  \n",
    "+ Rating  \n",
    "+ Cards\n",
    "+ Age  \n",
    "+ Education  \n",
    "+ Gender (categorial: M,F)\n",
    "+ Student (categorial: Y,N)\n",
    "+ Married (categorial: Y,N)\n",
    "+ Ethnicity (categorial: Caucasian, Asian, African American) \n",
    "+ Balance\n",
    "\n",
    "**Question:** What is wrong with the income data? How can it be fixed? \n",
    "\n",
    "The file 'Credit.csv' is a comma separated file. I assume a period was used instead of a comma to indicate thousands in income so it wouldn't get confused with the separating value? Or maybe this is a dataset from Europe? Or maybe the income is just measured in \\$1k units?  To fix the income data, we can use the Pandas series 'map' function. \n"
   ]
  },
  {
   "cell_type": "code",
   "execution_count": null,
   "metadata": {
    "collapsed": false
   },
   "outputs": [],
   "source": [
    "credit[\"Income\"] = credit[\"Income\"].map(lambda x: 1000*x)\n",
    "print(credit[:10])"
   ]
  },
  {
   "cell_type": "markdown",
   "metadata": {},
   "source": [
    "We can also look at the covariances in the data. (This is how the variables vary together.) There are two ways to do this:\n",
    "1. Visually: Make a scatter matrix of the data\n",
    "+ Quantitatively: Compute the correlation matrix. For each pair of variables, $(x_i,y_i)$, we compute $\\frac{\\sum_i (x_i - \\bar x) (y_i - \\bar y)}{s_x s_y}$ where $\\bar x, \\bar y$ are sample means and $s_x, s_y$ are sample variances"
   ]
  },
  {
   "cell_type": "code",
   "execution_count": null,
   "metadata": {
    "collapsed": false
   },
   "outputs": [],
   "source": [
    "print(credit.corr())\n",
    "pd.scatter_matrix(credit, figsize=(10, 10), diagonal='hist'); # trick: semi-colon prevents output"
   ]
  },
  {
   "cell_type": "markdown",
   "metadata": {},
   "source": [
    "**Observations:**\n",
    "1. Limit and Rating are highly correlated ($99.7\\%$)  \n",
    "+ Income strongly correlates with Limit ($79\\%$) and Rating ($79\\%$)\n",
    "+ Balance correlates with Limit ($86\\%$) and Rating ($86\\%$)\n",
    "+ There are \"weird stripes\" in some of the data. Why? \n",
    "+ Categorical information doesn't appear in this plot. Why? How can I visualize the categorical variables?"
   ]
  },
  {
   "cell_type": "code",
   "execution_count": null,
   "metadata": {
    "collapsed": false
   },
   "outputs": [],
   "source": [
    "# Plot Categorical variables: Gender, Student, Married, Ethnicity\n",
    "fig, axes = plt.subplots(nrows=2, ncols=2,figsize=(10,10))\n",
    "credit[\"Gender\"].value_counts().plot(kind='pie',ax=axes[0,0]);\n",
    "credit[\"Student\"].value_counts().plot(kind='pie',ax=axes[1,0]);\n",
    "credit[\"Married\"].value_counts().plot(kind='pie',ax=axes[0,1]);\n",
    "credit[\"Ethnicity\"].value_counts().plot(kind='pie',ax=axes[1,1]);"
   ]
  },
  {
   "cell_type": "markdown",
   "metadata": {},
   "source": [
    "## A first regression model\n",
    "\n",
    "We regress first regress Limit on Rating: \n",
    "$$\n",
    "\\text{Limit} = \\beta_0 + \\beta_1 \\text{Rating}. \n",
    "$$\n",
    "Since credit ratings are primiarily used by banks to determine credit limits, we expect that Rating is very predictive for Limit, so this regression should be very good. \n",
    "\n",
    "We use the 'ols' function from the statsmodels python library. \n"
   ]
  },
  {
   "cell_type": "code",
   "execution_count": null,
   "metadata": {
    "collapsed": false
   },
   "outputs": [],
   "source": [
    "model = sm.ols(formula=\"Limit ~ Rating\", data=credit)\n",
    "model_result = model.fit()\n",
    "print(model_result.summary())"
   ]
  },
  {
   "cell_type": "markdown",
   "metadata": {},
   "source": [
    "As we might have expected, the credit limit is almost entirely predicted by credit rating in this dataset.\n",
    "\n",
    "Since Rating and Limit are almost the same variable, next we'll forget about Limit and just try to predict Rating from the real-valued variables (non-categorical variables): Income, Cards, Age, Education, Balance. \n",
    "\n",
    "**Exercise:** Develop a multilinear regression model to predict Rating. \n",
    "Interpret the results"
   ]
  },
  {
   "cell_type": "code",
   "execution_count": null,
   "metadata": {
    "collapsed": false
   },
   "outputs": [],
   "source": [
    "# your code here \n"
   ]
  },
  {
   "cell_type": "markdown",
   "metadata": {},
   "source": [
    "Which independent variables are good/bad predictors? \n",
    "\n",
    "**Observations:**\n",
    "\n",
    "1. ... \n",
    "+ ..."
   ]
  },
  {
   "cell_type": "markdown",
   "metadata": {
    "collapsed": true
   },
   "source": [
    "## Incorporating categorical variables into regression models\n",
    "\n",
    "We have four categorical variables (Gender, Student, Married, Ethnicity). How can we include them in a regression model? \n",
    "\n",
    "Let's start with a categorical variable with only 2 categories: Gender (Male, Female).\n",
    "\n",
    "Idea: Create a \"dummy variable\" that turns Gender into a real value: \n",
    "$$\n",
    "\\text{Gender_num}_i = \\begin{cases} \n",
    "1 & \\text{if $i$-th person is female} \\\\\n",
    "0 & \\text{if $i$-th person is male}\n",
    "\\end{cases}. \n",
    "$$\n",
    "Then we could try the model \n",
    "$$\n",
    "\\text{Balance} = \\beta_0 + \\beta_1 \\text{Gender_num}. \n",
    "$$"
   ]
  },
  {
   "cell_type": "code",
   "execution_count": null,
   "metadata": {
    "collapsed": false
   },
   "outputs": [],
   "source": [
    "credit[\"Gender_num\"] = credit[\"Gender\"].map({' Male':0, 'Female':1})\n",
    "credit[\"Student_num\"] = credit[\"Student\"].map({'Yes':1, 'No':0})\n",
    "credit[\"Married_num\"] = credit[\"Married\"].map({'Yes':1, 'No':0})\n",
    "\n",
    "model = sm.ols(formula=\"Balance ~ Gender_num\", data=credit)\n",
    "model_result = model.fit()\n",
    "print(model_result.summary())"
   ]
  },
  {
   "cell_type": "markdown",
   "metadata": {},
   "source": [
    "Since the $p$-value for the Gender_num coefficient is very large, we conclude that there is no support for the conclusion that there is a difference in credit card balance between genders.\n",
    "\n",
    "**Exercise**: Try to find a meaningful relationship in the data, for example, age vs. education, gender vs. married, etc..."
   ]
  },
  {
   "cell_type": "code",
   "execution_count": null,
   "metadata": {
    "collapsed": false
   },
   "outputs": [],
   "source": [
    "# your code here \n"
   ]
  },
  {
   "cell_type": "markdown",
   "metadata": {},
   "source": [
    "## What about a categorical variable with 3 categories? \n",
    "\n",
    "The Ethnicity variable takes three values: Caucasian, Asian, and African American. \n",
    "\n",
    "What's wrong with the following?  \n",
    "$$\n",
    "\\text{Ethnicity_num}_i = \\begin{cases} \n",
    "0 & \\text{if $i$-th person is Caucasian} \\\\\n",
    "1 & \\text{if $i$-th person is Asian} \\\\ \n",
    "2 & \\text{if $i$-th person is African American}\n",
    "\\end{cases}. \n",
    "$$\n",
    "\n",
    "Hint: Recall Nominal, Ordinal, Interval, Ratio variable types from Lecture 2\n",
    "\n",
    "We'll need more than one dummy variable:  \n",
    "$$\n",
    "\\text{Asian}_i = \\begin{cases} \n",
    "1 & \\text{if $i$-th person is Asian} \\\\\n",
    "0 & \\text{otherwise}\n",
    "\\end{cases}. \n",
    "$$\n",
    "$$\n",
    "\\text{Caucasian}_i = \\begin{cases} \n",
    "1 & \\text{if $i$-th person is Caucasian} \\\\\n",
    "0 & \\text{otherwise}\n",
    "\\end{cases}. \n",
    "$$\n",
    "The value with no dummy variable--African American--is called the *baseline*.\n",
    "\n",
    "**Exercise**: Can you find a relationship in the data involving the variable ethnicity? "
   ]
  },
  {
   "cell_type": "code",
   "execution_count": null,
   "metadata": {
    "collapsed": true
   },
   "outputs": [],
   "source": [
    "credit[\"Asian_num\"] = credit[\"Ethnicity\"].map({'Caucasian':0, 'Asian':1, 'African American':0})\n",
    "credit[\"Caucasian_num\"] = credit[\"Ethnicity\"].map({'Caucasian':1, 'Asian':0, 'African American':0})"
   ]
  },
  {
   "cell_type": "code",
   "execution_count": null,
   "metadata": {
    "collapsed": true
   },
   "outputs": [],
   "source": [
    "# your code here \n"
   ]
  }
 ],
 "metadata": {
  "anaconda-cloud": {},
  "kernelspec": {
   "display_name": "Python [Root]",
   "language": "python",
   "name": "Python [Root]"
  },
  "language_info": {
   "codemirror_mode": {
    "name": "ipython",
    "version": 3
   },
   "file_extension": ".py",
   "mimetype": "text/x-python",
   "name": "python",
   "nbconvert_exporter": "python",
   "pygments_lexer": "ipython3",
   "version": "3.5.1"
  }
 },
 "nbformat": 4,
 "nbformat_minor": 0
}
